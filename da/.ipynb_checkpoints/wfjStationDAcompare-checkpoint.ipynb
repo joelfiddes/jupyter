{
 "cells": [
  {
   "cell_type": "code",
   "execution_count": null,
   "metadata": {},
   "outputs": [],
   "source": [
    "Show DA at WFJ compared to sim driven by station data.\n",
    "/home/joel/mnt/myserver/nas/sim/gcos_era5_big_ensemble\n"
   ]
  },
  {
   "cell_type": "code",
   "execution_count": 1,
   "metadata": {},
   "outputs": [
    {
     "name": "stderr",
     "output_type": "stream",
     "text": [
      "Loading required package: raster\n",
      "Loading required package: sp\n"
     ]
    }
   ],
   "source": [
    "# dependencies\n",
    "source(\"/home/joel/src/topoMAPP/rsrc/PBS.R\")\n",
    "require(raster)"
   ]
  },
  {
   "cell_type": "code",
   "execution_count": 2,
   "metadata": {},
   "outputs": [],
   "source": [
    "# define rmse\n",
    "rmse = function(sim, obs){sqrt( mean( (sim - obs)^2, na.rm = TRUE) )  }"
   ]
  },
  {
   "cell_type": "code",
   "execution_count": 5,
   "metadata": {},
   "outputs": [],
   "source": [
    "# define variable\n",
    "lwd=3\n",
    "priorwd=\"/home/joel/mnt/myserver/nas/sim/gcos_era5_big\"\n",
    "wd = \"/home/joel/mnt/myserver/nas/sim/gcos_era5_big_ensemble\"\n",
    "grid= 56\n",
    "year = 0\n",
    "startda = \"2015-09-01\"#(yyy-mm-dd)\n",
    "endda = \"2016-09-01\"\n",
    "startSim = \"2015-09-01\"#(yyy-mm-dd)\n",
    "endSim = \"2016-09-01\"\n",
    "sdThresh=13\n",
    "createPixTS=\"TRUE\"\n",
    "start=300#dohy for obs in da \n",
    "end=340 #dohy for obs in da \n",
    "nens=100\n",
    "R=0.016"
   ]
  },
  {
   "cell_type": "code",
   "execution_count": 9,
   "metadata": {},
   "outputs": [],
   "source": [
    "# read in stuff\n",
    "landform = raster(paste0(priorwd, \"/grid\", grid, \"/landform.tif\"))\n",
    "rstack = brick(paste0(priorwd, \"/fsca_stack.tif\"))\n",
    "obsTS = read.csv(paste0(priorwd, \"/fsca_dates.csv\"))\n",
    "load(paste0(wd, \"/ensembRes_\", grid, \".rd\"))\n",
    "gcosshp = shapefile('/home/joel/mnt/myserver/nas/data/GCOS/metadata_easy.shp')"
   ]
  },
  {
   "cell_type": "code",
   "execution_count": 10,
   "metadata": {},
   "outputs": [
    {
     "name": "stdout",
     "output_type": "stream",
     "text": [
      "[1] \"stations found = \" \"5DF\"               \"5KK\"              \n",
      "[4] \"5WJ\"              \n"
     ]
    }
   ],
   "source": [
    "\n",
    "dshp = crop(gcosshp,landform)\n",
    "print(c(\"stations found = \", dshp$STAT_AB))\n",
    "statn = length(dshp$STAT_AB)"
   ]
  },
  {
   "cell_type": "code",
   "execution_count": 12,
   "metadata": {},
   "outputs": [],
   "source": [
    "# read in val data\n",
    "valshp = dshp[3,] # options 1=5DF, 2=5KK, 3=5WJ\n",
    "gcosName=valshp$STAT_AB\n",
    "valdat = read.csv(paste0(\"/home/joel/mnt/myserver/nas/data/GCOS/sp_\",gcosName,\".txt\"))"
   ]
  },
  {
   "cell_type": "code",
   "execution_count": 13,
   "metadata": {},
   "outputs": [
    {
     "name": "stdout",
     "output_type": "stream",
     "text": [
      "[1] \"/home/joel/mnt/myserver/nas/sim/gcos_era5_big_ensemble/fsca_crop560.tif already exists.\"\n"
     ]
    }
   ],
   "source": [
    "# readin or crop MODIS fsca domain to grid\n",
    "# ensure it is gfap filled temporally\n",
    "\n",
    "fscacrop = paste0(wd, \"/fsca_crop\",grid,year,\".tif\")\n",
    "if (!file.exists(fscacrop)) {\n",
    "\n",
    "    # cut temporal length of dates vector to startda/endda\n",
    "    startda.index <- which(obsTS$x == startda)\n",
    "    endda.index <- which(obsTS$x == endda)\n",
    "\n",
    "    # subset rstack temporally\n",
    "    print(paste0(\"subset rstack temporally:\", startda,\" to \",endda))\n",
    "    rstack = rstack[[startda.index:endda.index]]\n",
    "\n",
    "    # subset dates vector to current year\n",
    "    obsTScut <- obsTS$x[startda.index:endda.index]\n",
    "    write.csv(obsTScut, paste0(wd, \"/fsca_dates_\",year,\".csv\"), row.names = FALSE)\n",
    "\n",
    "    # analyse missing days\n",
    "    actualDays <- seq(as.Date(startda), as.Date(endda), 1)\n",
    "    NactualDays <- length(actualDays)\n",
    "\n",
    "    # check for missing dates in fsca timeseries (not NA but actual missing\n",
    "    # timestamps) THIS was implement in extractSCATimeseries.R but not in _GRID.R\n",
    "    # version - fill with dummy NA layers\n",
    "    if (nlayers(rstack) != NactualDays) {\n",
    "        \n",
    "        missDates.index <- which(!(as.character(actualDays) %in% as.character(obsTScut)))\n",
    "        missDates <- actualDays[which(!(as.character(actualDays) %in% as.character(obsTScut)))]\n",
    "\n",
    "        print(paste0(\"missing dates found:\", missDates, \" filling missing datestamps now\"))\n",
    "\n",
    "        # create NA layer for insertion\n",
    "        insertLyr = rstack[[1]]\n",
    "        insertLyr[insertLyr < 1000] <- NA\n",
    "\n",
    "        # name layers by date\n",
    "        names(rstack) <- obsTScut\n",
    "\n",
    "        # make stack of dummy layes and name\n",
    "        insertStack <- stack(replicate(length(missDates), insertLyr))\n",
    "        names(insertStack) <- missDates\n",
    "        mergeStack = stack(rstack, insertStack)\n",
    "        rstack = mergeStack[[order(names(mergeStack))]]\n",
    "        print(\"rstack missing datestamps filled\")\n",
    "\n",
    "    }\n",
    "    } else {\n",
    "    print(paste0(fscacrop, \" already exists.\"))\n",
    "    rstack <- stack(fscacrop)\n",
    "}\n"
   ]
  },
  {
   "cell_type": "code",
   "execution_count": 14,
   "metadata": {},
   "outputs": [
    {
     "name": "stdout",
     "output_type": "stream",
     "text": [
      "[1] \"Validation data exists at pixels: 1142\"\n"
     ]
    }
   ],
   "source": [
    "# GET FSCA TIMESERIES AT VALPOINT LOCATION\n",
    "\n",
    "npix = cellsFromExtent(rstack[[1]], valshp)\n",
    "print(paste0(\"Validation data exists at pixels: \", npix))\n",
    "\n",
    "# OPTION1 - use this to create file\n",
    "if (createPixTS==TRUE){\n",
    "pixTS = as.numeric(extract(rstack, valshp))\n",
    "}\n",
    "\n",
    "\n",
    "# OPTION2 - use this to read file already created, WARNING! make sure it isnt fro another sim.\n",
    "\n",
    "if (createPixTS==FALSE){\n",
    "pixTS = paste0(wd, \"/pixTS_\", grid)\n",
    "if (!file.exists(pixTS)) {\n",
    "\n",
    "   pixTS = as.numeric(extract(rstack, valshp))\n",
    "    save(pixTS, file = paste0(wd, \"/pixTS_\", grid))\n",
    "\n",
    "} else {\n",
    "    print(paste0(pixTS, \" already exists.\"))\n",
    "    load(paste0(wd, \"/pixTS_\", grid))\n",
    "}\n",
    "}"
   ]
  },
  {
   "cell_type": "code",
   "execution_count": 15,
   "metadata": {},
   "outputs": [
    {
     "name": "stdout",
     "output_type": "stream",
     "text": [
      "[1] \"ensembRes cut to: 2015-09-01 to 2016-09-01\"\n"
     ]
    }
   ],
   "source": [
    "# GET ENSEMBLE SUBSET AND CONVERT TO SCA\n",
    "\n",
    "# subset temporally\n",
    "totalTS <- seq(as.Date(startSim), as.Date(endSim), 1)\n",
    "start.index <- which(totalTS == startda)\n",
    "end.index <- which(totalTS == endda)\n",
    "ensembRes <- ensembRes[start.index:end.index, , ]\n",
    "print(paste0(\"ensembRes cut to: \", startda, \" to \", endda))\n",
    "\n",
    "# convert swe to sca\n",
    "ensembRes[ensembRes <= sdThresh] <- 0\n",
    "ensembRes[ensembRes > sdThresh] <- 1"
   ]
  },
  {
   "cell_type": "code",
   "execution_count": 16,
   "metadata": {},
   "outputs": [
    {
     "name": "stdout",
     "output_type": "stream",
     "text": [
      "[1] \"meltperiod start: 281\"\n",
      "[1] \"meltperiod end: 316\"\n"
     ]
    }
   ],
   "source": [
    "# COMPUTE meltperiod\n",
    "\n",
    "vec <- pixTS\n",
    "   vec[1:150] <-NA\n",
    "        lastdata = which(vec == 0)[1]  # last non-zero value\n",
    "    \n",
    "       \n",
    "        #lastdateover95 = length(vec) - which(rvec > (max(rvec, na.rm = TRUE) * 0.95))[1]  # last date over 95% of max value accounts for max below 100%\n",
    "        start = lastdata - 30\n",
    "        end = lastdata +5\n",
    "        \n",
    "print(paste0(\"meltperiod start: \", start))\n",
    "print(paste0(\"meltperiod end: \", end))"
   ]
  },
  {
   "cell_type": "code",
   "execution_count": null,
   "metadata": {},
   "outputs": [],
   "source": []
  }
 ],
 "metadata": {
  "kernelspec": {
   "display_name": "R",
   "language": "R",
   "name": "ir"
  },
  "language_info": {
   "codemirror_mode": "r",
   "file_extension": ".r",
   "mimetype": "text/x-r-source",
   "name": "R",
   "pygments_lexer": "r",
   "version": "3.4.0"
  }
 },
 "nbformat": 4,
 "nbformat_minor": 2
}
